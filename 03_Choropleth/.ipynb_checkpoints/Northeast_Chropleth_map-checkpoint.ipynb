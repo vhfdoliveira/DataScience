{
 "cells": [
  {
   "cell_type": "markdown",
   "metadata": {},
   "source": []
  },
  {
   "cell_type": "code",
   "execution_count": 124,
   "metadata": {},
   "outputs": [],
   "source": [
    "import os\n",
    "import folium\n",
    "import json\n",
    "import pandas as pd\n",
    "from branca.colormap import linear\n",
    "import numpy as np\n",
    "from shapely.geometry import Polygon\n",
    "from shapely.geometry import Point\n",
    "from numpy import random"
   ]
  },
  {
   "cell_type": "code",
   "execution_count": 125,
   "metadata": {},
   "outputs": [
    {
     "data": {
      "text/html": [
       "<div>\n",
       "<style>\n",
       "    .dataframe thead tr:only-child th {\n",
       "        text-align: right;\n",
       "    }\n",
       "\n",
       "    .dataframe thead th {\n",
       "        text-align: left;\n",
       "    }\n",
       "\n",
       "    .dataframe tbody tr th {\n",
       "        vertical-align: top;\n",
       "    }\n",
       "</style>\n",
       "<table border=\"1\" class=\"dataframe\">\n",
       "  <thead>\n",
       "    <tr style=\"text-align: right;\">\n",
       "      <th></th>\n",
       "      <th>UF</th>\n",
       "      <th>COD._UF</th>\n",
       "      <th>COD._MUNIC</th>\n",
       "      <th>NOME_DO_MUNICÍPIO</th>\n",
       "      <th>POPULAÇÃO_ESTIMADA</th>\n",
       "    </tr>\n",
       "  </thead>\n",
       "  <tbody>\n",
       "    <tr>\n",
       "      <th>0</th>\n",
       "      <td>RO</td>\n",
       "      <td>11.0</td>\n",
       "      <td>15.0</td>\n",
       "      <td>Alta Floresta D'Oeste</td>\n",
       "      <td>25437.0</td>\n",
       "    </tr>\n",
       "    <tr>\n",
       "      <th>1</th>\n",
       "      <td>RO</td>\n",
       "      <td>11.0</td>\n",
       "      <td>23.0</td>\n",
       "      <td>Ariquemes</td>\n",
       "      <td>107345.0</td>\n",
       "    </tr>\n",
       "    <tr>\n",
       "      <th>2</th>\n",
       "      <td>RO</td>\n",
       "      <td>11.0</td>\n",
       "      <td>31.0</td>\n",
       "      <td>Cabixi</td>\n",
       "      <td>6224.0</td>\n",
       "    </tr>\n",
       "    <tr>\n",
       "      <th>3</th>\n",
       "      <td>RO</td>\n",
       "      <td>11.0</td>\n",
       "      <td>49.0</td>\n",
       "      <td>Cacoal</td>\n",
       "      <td>88507.0</td>\n",
       "    </tr>\n",
       "    <tr>\n",
       "      <th>4</th>\n",
       "      <td>RO</td>\n",
       "      <td>11.0</td>\n",
       "      <td>56.0</td>\n",
       "      <td>Cerejeiras</td>\n",
       "      <td>17934.0</td>\n",
       "    </tr>\n",
       "  </tbody>\n",
       "</table>\n",
       "</div>"
      ],
      "text/plain": [
       "   UF  COD._UF  COD._MUNIC      NOME_DO_MUNICÍPIO  POPULAÇÃO_ESTIMADA\n",
       "0  RO     11.0        15.0  Alta Floresta D'Oeste             25437.0\n",
       "1  RO     11.0        23.0              Ariquemes            107345.0\n",
       "2  RO     11.0        31.0                 Cabixi              6224.0\n",
       "3  RO     11.0        49.0                 Cacoal             88507.0\n",
       "4  RO     11.0        56.0             Cerejeiras             17934.0"
      ]
     },
     "execution_count": 125,
     "metadata": {},
     "output_type": "execute_result"
    }
   ],
   "source": [
    "# dataset name\n",
    "dataset_pop_2017 = os.path.join('data', 'population_2017.csv')\n",
    "\n",
    "# read the data to a dataframe\n",
    "data2017 = pd.read_csv(dataset_pop_2017)\n",
    "\n",
    "# replace spaces for underlines in name of columns\n",
    "data2017.columns = [cols.replace(' ', '_') for cols in data2017.columns]\n",
    "\n",
    "#print the first five rows\n",
    "data2017.head()"
   ]
  },
  {
   "cell_type": "code",
   "execution_count": null,
   "metadata": {
    "collapsed": true
   },
   "outputs": [],
   "source": [
    "# filtering data about RN state\n",
    "dataRN = data2017[data2017['UF'] == 'RN']\n",
    "\n",
    "# sort dataset by city name\n",
    "dataRN = dataRN.sort_values('NOME_DO_MUNICÍPIO')\n",
    "\n",
    "dataRN.head()\n"
   ]
  },
  {
   "cell_type": "code",
   "execution_count": null,
   "metadata": {
    "collapsed": true
   },
   "outputs": [],
   "source": [
    "dataPB = data2017[data2017['UF'] == 'PB']\n",
    "\n",
    "dataPB = dataPB.sort_values('NOME_DO_MUNICÍPIO')\n",
    "\n",
    "dataPB.loc[ dataPB[ dataPB['NOME_DO_MUNICÍPIO'] == 'Quixaba' ].index, 'NOME_DO_MUNICÍPIO'] = 'Quixabá'\n",
    "dataPB.loc[ dataPB[ dataPB['NOME_DO_MUNICÍPIO'] == 'Joca Claudino' ].index, 'NOME_DO_MUNICÍPIO'] = 'Santarém'\n",
    "dataPB.loc[ dataPB[ dataPB['NOME_DO_MUNICÍPIO'] == 'São Vicente do Seridó' ].index, 'NOME_DO_MUNICÍPIO'] = 'Seridó'\n",
    "dataPB.loc[ dataPB[ dataPB['NOME_DO_MUNICÍPIO'] == 'Tacima' ].index, 'NOME_DO_MUNICÍPIO'] = 'Campo de Santana'\n",
    "\n",
    "dataPB.head()\n",
    "\n"
   ]
  },
  {
   "cell_type": "code",
   "execution_count": null,
   "metadata": {
    "collapsed": true
   },
   "outputs": [],
   "source": [
    "# searching the files in geojson/geojs-xx-mun.json\n",
    "geo_json_rn_path = os.path.join('geojson', 'geojs-24-mun.json')\n",
    "\n",
    "# load the data and use 'latin-1'encoding because the accent\n",
    "geo_json_data_rn = json.load(open(geo_json_rn_path,encoding='latin-1'))\n",
    "\n",
    "geo_json_data_rn"
   ]
  },
  {
   "cell_type": "code",
   "execution_count": null,
   "metadata": {
    "collapsed": true
   },
   "outputs": [],
   "source": [
    "# searching the files in geojson/geojs-xx-mun.json\n",
    "geo_json_pb_path = os.path.join('geojson', 'geojs-25-mun.json')\n",
    "\n",
    "# load the data and use 'latin-1'encoding because the accent\n",
    "geo_json_data_pb = json.load(open(geo_json_pb_path,encoding='latin-1'))\n",
    "\n",
    "geo_json_data_pb"
   ]
  },
  {
   "cell_type": "code",
   "execution_count": null,
   "metadata": {
    "collapsed": true
   },
   "outputs": [],
   "source": [
    "# http://cidades.ibge.gov.br/painel/historico.php?codmun=241030\n",
    "# Presidente Juscelino city changes your name to Serra Caiada\n",
    "geo_json_data_rn['features'][112]['properties']['description'] = 'Serra Caiada'\n",
    "geo_json_data_rn['features'][112]['properties']['name'] = 'Serra Caiada'"
   ]
  },
  {
   "cell_type": "code",
   "execution_count": null,
   "metadata": {
    "collapsed": true
   },
   "outputs": [],
   "source": [
    "# Create a map object\n",
    "'''m = folium.Map(\n",
    "    location=[-5.826592, -35.212558],\n",
    "    zoom_start=7,\n",
    "    tiles='Stamen Terrain'\n",
    ")\n",
    "\n",
    "# Configure geojson layer\n",
    "folium.GeoJson(geo_json_data_rn).add_to(m)\n",
    "\n",
    "m'''"
   ]
  },
  {
   "cell_type": "code",
   "execution_count": null,
   "metadata": {
    "collapsed": true
   },
   "outputs": [],
   "source": [
    "# Configure geojson layer\n",
    "'''folium.GeoJson(geo_json_data_pb).add_to(m)\n",
    "\n",
    "m'''"
   ]
  },
  {
   "cell_type": "code",
   "execution_count": null,
   "metadata": {
    "collapsed": true
   },
   "outputs": [],
   "source": [
    "# colormap yellow and green (YlGn)\n",
    "colormap_rn = linear.YlGn.scale(\n",
    "    dataRN.POPULAÇÃO_ESTIMADA.min(),\n",
    "    dataRN.POPULAÇÃO_ESTIMADA.max())\n",
    "\n",
    "colormap_rn"
   ]
  },
  {
   "cell_type": "code",
   "execution_count": null,
   "metadata": {
    "collapsed": true
   },
   "outputs": [],
   "source": [
    "# colormap orange and red (OrRd)\n",
    "colormap_pb = linear.GnBu.scale(\n",
    "    dataPB.POPULAÇÃO_ESTIMADA.min(),\n",
    "    dataPB.POPULAÇÃO_ESTIMADA.max())\n",
    "\n",
    "colormap_pb"
   ]
  },
  {
   "cell_type": "code",
   "execution_count": null,
   "metadata": {
    "collapsed": true
   },
   "outputs": [],
   "source": [
    "population_dict_rn = dataRN.set_index('NOME_DO_MUNICÍPIO')['POPULAÇÃO_ESTIMADA']\n",
    "\n",
    "# create a threshold of legend\n",
    "threshold_scale_rn = np.linspace(dataRN['POPULAÇÃO_ESTIMADA'].min(),\n",
    "                              dataRN['POPULAÇÃO_ESTIMADA'].max(), 6, dtype=int).tolist()"
   ]
  },
  {
   "cell_type": "code",
   "execution_count": null,
   "metadata": {
    "collapsed": true
   },
   "outputs": [],
   "source": [
    "population_dict_pb = dataPB.set_index('NOME_DO_MUNICÍPIO')['POPULAÇÃO_ESTIMADA']\n",
    "\n",
    "# create a threshold of legend\n",
    "threshold_scale_pb = np.linspace(dataPB['POPULAÇÃO_ESTIMADA'].min(),\n",
    "                              dataPB['POPULAÇÃO_ESTIMADA'].max(), 6, dtype=int).tolist()"
   ]
  },
  {
   "cell_type": "code",
   "execution_count": null,
   "metadata": {
    "collapsed": true
   },
   "outputs": [],
   "source": [
    "m = folium.Map(\n",
    "    location=[-5.826592, -35.212558],\n",
    "    zoom_start=7,\n",
    "    tiles='Stamen Terrain'\n",
    ")"
   ]
  },
  {
   "cell_type": "code",
   "execution_count": null,
   "metadata": {
    "collapsed": true
   },
   "outputs": [],
   "source": [
    "folium.GeoJson(\n",
    "    geo_json_data_rn,\n",
    "    name='Population estimation of RN State in 2017',\n",
    "    style_function=lambda feature: {\n",
    "        'fillColor': colormap_rn(population_dict_rn[feature['properties']['description']]),\n",
    "        'color': 'black',\n",
    "        'weight': 1,\n",
    "        'dashArray': '5, 5',\n",
    "        'fillOpacity': 0.4,\n",
    "    }\n",
    ").add_to(m)\n",
    "\n",
    "colormap_rn.caption = 'Population estimation of RN State in 2017'\n",
    "colormap_rn.add_to(m)\n",
    "\n",
    "m"
   ]
  },
  {
   "cell_type": "code",
   "execution_count": null,
   "metadata": {
    "collapsed": true
   },
   "outputs": [],
   "source": [
    "m.choropleth(\n",
    "    geo_data=geo_json_data_rn,\n",
    "    data=dataRN,\n",
    "    columns=['NOME_DO_MUNICÍPIO', 'POPULAÇÃO_ESTIMADA'],\n",
    "    key_on='feature.properties.description',\n",
    "    fill_color='YlGn',\n",
    "    legend_name='Population estimation of RN State in 2017',\n",
    "    highlight=True,\n",
    "    threshold_scale = threshold_scale_rn\n",
    ")\n",
    "\n",
    "m"
   ]
  },
  {
   "cell_type": "code",
   "execution_count": null,
   "metadata": {
    "collapsed": true
   },
   "outputs": [],
   "source": [
    "folium.GeoJson(\n",
    "    geo_json_data_pb,\n",
    "    name='Population estimation of PB State in 2017',\n",
    "    style_function=lambda feature: {\n",
    "        'fillColor': colormap_pb(population_dict_pb[feature['properties']['description']]),\n",
    "        'color': 'black',\n",
    "        'weight': 1,\n",
    "        'dashArray': '1, 1',\n",
    "        'fillOpacity': 0.4,\n",
    "    }\n",
    ").add_to(m)\n",
    "\n",
    "colormap_pb.caption = 'Population estimation of PB State in 2017'\n",
    "colormap_pb.add_to(m)\n",
    "\n",
    "m"
   ]
  },
  {
   "cell_type": "code",
   "execution_count": null,
   "metadata": {
    "collapsed": true
   },
   "outputs": [],
   "source": [
    "\n",
    "m.choropleth(\n",
    "    geo_data=geo_json_data_pb,\n",
    "    data=dataPB,\n",
    "    columns=['NOME_DO_MUNICÍPIO', 'POPULAÇÃO_ESTIMADA'],\n",
    "    key_on='feature.properties.description',\n",
    "    fill_color='GnBu',\n",
    "    legend_name='Population estimation of PB State in 2017',\n",
    "    highlight=True,\n",
    "    threshold_scale = threshold_scale_pb\n",
    ")\n",
    "\n",
    "m"
   ]
  },
  {
   "cell_type": "code",
   "execution_count": null,
   "metadata": {
    "collapsed": true
   },
   "outputs": [],
   "source": [
    "folium.LayerControl().add_to(m)\n",
    "\n",
    "m"
   ]
  },
  {
   "cell_type": "code",
   "execution_count": null,
   "metadata": {
    "collapsed": true
   },
   "outputs": [],
   "source": []
  },
  {
   "cell_type": "code",
   "execution_count": 126,
   "metadata": {
    "collapsed": true
   },
   "outputs": [],
   "source": [
    "states = ['MA', 'PI', 'CE', 'RN', 'PB', 'PE', 'AL', 'SE', 'BA']\n",
    "data = {}\n",
    "\n",
    "for i in states:\n",
    "    data[i] = data2017[data2017['UF'] == i]\n",
    "    data[i] = data[i].sort_values('NOME_DO_MUNICÍPIO')\n"
   ]
  },
  {
   "cell_type": "code",
   "execution_count": 127,
   "metadata": {
    "collapsed": true
   },
   "outputs": [],
   "source": [
    "fill_colors = ['BuGn', 'OrRd', 'PuBu', 'GnBu', 'BuGn', 'OrRd', 'PuBu', 'GnBu', 'BuGn']"
   ]
  },
  {
   "cell_type": "code",
   "execution_count": 128,
   "metadata": {
    "collapsed": true
   },
   "outputs": [],
   "source": [
    "data['RN'][:].loc[ data['RN'][ data['RN']['NOME_DO_MUNICÍPIO'] == 'Serra Caiada' ].index, \n",
    "                  'NOME_DO_MUNICÍPIO'] = 'Presidente Juscelino'"
   ]
  },
  {
   "cell_type": "code",
   "execution_count": 129,
   "metadata": {
    "collapsed": true
   },
   "outputs": [],
   "source": [
    "data['PB'][:].loc[ data['PB'][ data['PB']['NOME_DO_MUNICÍPIO'] == 'Quixaba' ].index, \n",
    "                  'NOME_DO_MUNICÍPIO'] = 'Quixabá'\n",
    "data['PB'][:].loc[ data['PB'][ data['PB']['NOME_DO_MUNICÍPIO'] == 'Joca Claudino' ].index, \n",
    "                  'NOME_DO_MUNICÍPIO'] = 'Santarém'\n",
    "data['PB'][:].loc[ data['PB'][ data['PB']['NOME_DO_MUNICÍPIO'] == 'São Vicente do Seridó' ].index, \n",
    "                  'NOME_DO_MUNICÍPIO'] = 'Seridó'\n",
    "data['PB'][:].loc[ data['PB'][ data['PB']['NOME_DO_MUNICÍPIO'] == 'Tacima' ].index, \n",
    "                  'NOME_DO_MUNICÍPIO'] = 'Campo de Santana'"
   ]
  },
  {
   "cell_type": "code",
   "execution_count": 130,
   "metadata": {
    "collapsed": true
   },
   "outputs": [],
   "source": [
    "geo_json_data = {}\n",
    "j = 21\n",
    "for i in states:\n",
    "    filename = 'geojs-' + str(j) +'-mun.json'\n",
    "    path = os.path.join('geojson', filename)  \n",
    "    \n",
    "    geo_json_data[i] = json.load(open(path, encoding='latin-1'))\n",
    "    \n",
    "    j = j+1\n",
    "    \n"
   ]
  },
  {
   "cell_type": "code",
   "execution_count": 131,
   "metadata": {
    "collapsed": true
   },
   "outputs": [],
   "source": [
    "threshold_scales = {}\n",
    "\n",
    "for i in states:\n",
    "    threshold_scales[i] = np.linspace(data[i]['POPULAÇÃO_ESTIMADA'].min(),\n",
    "                              data[i]['POPULAÇÃO_ESTIMADA'].max(), 6, dtype=int).tolist()\n"
   ]
  },
  {
   "cell_type": "code",
   "execution_count": null,
   "metadata": {
    "collapsed": true
   },
   "outputs": [],
   "source": []
  },
  {
   "cell_type": "code",
   "execution_count": 132,
   "metadata": {
    "collapsed": true
   },
   "outputs": [],
   "source": [
    "m = folium.Map(\n",
    "    location=[-5.826592, -35.212558],\n",
    "    zoom_start=5,\n",
    "    tiles='Stamen Terrain'\n",
    ")\n",
    "\n",
    "j = 0;\n",
    "for i in states:\n",
    "    m.choropleth(\n",
    "        geo_data=geo_json_data[i],\n",
    "        data=data[i],\n",
    "        columns=['NOME_DO_MUNICÍPIO', 'POPULAÇÃO_ESTIMADA'],\n",
    "        key_on='feature.properties.description',\n",
    "        fill_color= fill_colors[j],\n",
    "        #fill_color = 'OrRd',\n",
    "        legend_name='Population estimation of ' + i + ' State in 2017',\n",
    "        highlight=True,\n",
    "        threshold_scale = threshold_scales[i]\n",
    "    )\n",
    "    \n",
    "    j=j+1\n",
    "    \n"
   ]
  },
  {
   "cell_type": "code",
   "execution_count": null,
   "metadata": {
    "collapsed": true
   },
   "outputs": [],
   "source": [
    "folium.LayerControl().add_to(m)\n",
    "\n",
    "m"
   ]
  },
  {
   "cell_type": "code",
   "execution_count": null,
   "metadata": {
    "collapsed": true
   },
   "outputs": [],
   "source": []
  },
  {
   "cell_type": "code",
   "execution_count": null,
   "metadata": {
    "collapsed": true
   },
   "outputs": [],
   "source": []
  },
  {
   "cell_type": "code",
   "execution_count": null,
   "metadata": {
    "collapsed": true
   },
   "outputs": [],
   "source": []
  }
 ],
 "metadata": {
  "kernelspec": {
   "display_name": "Python 3",
   "language": "python",
   "name": "python3"
  },
  "language_info": {
   "codemirror_mode": {
    "name": "ipython",
    "version": 3
   },
   "file_extension": ".py",
   "mimetype": "text/x-python",
   "name": "python",
   "nbconvert_exporter": "python",
   "pygments_lexer": "ipython3",
   "version": "3.6.1"
  }
 },
 "nbformat": 4,
 "nbformat_minor": 2
}
