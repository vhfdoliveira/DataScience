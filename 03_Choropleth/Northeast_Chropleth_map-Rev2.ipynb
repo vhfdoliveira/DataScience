{
 "cells": [
  {
   "cell_type": "markdown",
   "metadata": {},
   "source": [
    "# EEC2006 - Data Science\n",
    "# Project #2  Choropleth map: population of northeast states of Brazil\n",
    "## Alex Furtunato\n",
    "## Victor Hugo - 20171003230"
   ]
  },
  {
   "cell_type": "markdown",
   "metadata": {},
   "source": [
    "## 1. Introduction\n",
    "\n",
    "In DataScience, as in most fields of business or science, the presentation of the data is very important, through that presentation the author transmit the information that those data carry to the readers. Therefore, new libraries are constantly being developed, specially in python, in order to address more efficient forms of presentation.\n",
    "\n",
    "In this notebook, we will show how to use thematic maps, more specifically a choropleth map, through the folium library. A thematic map \"is a type of map specifically designed to show a particular theme connected with a specific geographic area\" and the choropleth map \"is a thematic map in which areas are shaded or patterned in proportion to the measurement of the statistical variable being displayed on the map\".\n",
    "\n",
    "We will use a choropleth map to analyze the population estimative of all the cities of the northeast states of Brazil in 2017.\n",
    "\n",
    "This notebook is organized as follow. In section 2 we describe the dataset used for the population of those cities. In section 3 we describe the GeoJSON files that defines the perimeter of all the cities of the northeast states of Brazil. In section 4 we introduce the use of the folium library, with a very basic example of how to draw a map. In section 5 we show two forms of how to draw a choropleth map (with folium library), starting only with the RN state and then drawing the whole northeast."
   ]
  },
  {
   "cell_type": "markdown",
   "metadata": {},
   "source": [
    "## 2. Population dataset\n",
    "\n",
    "The dataset comes from [IBGE - Instituto Brasileiro de Geografia e Estatística](https://downloads.ibge.gov.br/downloads_estatisticas.htm). It's a .csv file with the population of all the cities of Brazil and it has the following columns:\n",
    "\n",
    "- <span style=\"background-color: #F9EBEA; color:##C0392B\">UF</span>:\n",
    "Contains the initials of the state that the city belongs.\n",
    "\n",
    "- <span style=\"background-color: #F9EBEA; color:##C0392B\">COD. UF</span>: \n",
    "Contains the code of the state, as a float number with 2 digits.\n",
    "\n",
    "- <span style=\"background-color: #F9EBEA; color:##C0392B\">COD. MUNIC</span>:\n",
    "Contains the code of the city, as a float number with a maximum of 5 digits.\n",
    "\n",
    "- <span style=\"background-color: #F9EBEA; color:##C0392B\">NOME DO MUNICÍPIO</span>:\n",
    "Contains the name of the city.\n",
    "\n",
    "- <span style=\"background-color: #F9EBEA; color:##C0392B\">POPULAÇÃO ESTIMADA</span>:\n",
    "Contains the population of the city, as a float number."
   ]
  },
  {
   "cell_type": "code",
   "execution_count": null,
   "metadata": {
    "collapsed": true
   },
   "outputs": [],
   "source": [
    "import os\n",
    "import folium\n",
    "import json\n",
    "import pandas as pd\n",
    "import numpy as np\n",
    "from shapely.geometry import Polygon\n",
    "from shapely.geometry import Point"
   ]
  },
  {
   "cell_type": "code",
   "execution_count": null,
   "metadata": {},
   "outputs": [],
   "source": [
    "# dataset name\n",
    "dataset_pop_2017 = os.path.join('data', 'population_2017.csv')\n",
    "\n",
    "# read the data to a dataframe\n",
    "data2017 = pd.read_csv(dataset_pop_2017)\n",
    "\n",
    "# replace spaces for underlines in name of columns\n",
    "# this is useful to access the column values as 'propertiers' \n",
    "# example: print(data2017.COD._UF) will print the values of the column 'COD. UF'\n",
    "data2017.columns = [cols.replace(' ', '_') for cols in data2017.columns]\n",
    "\n",
    "#print the first five rows\n",
    "data2017.head()"
   ]
  },
  {
   "cell_type": "markdown",
   "metadata": {},
   "source": [
    "In our first example of the use of folium, we will draw only the map of the RN state. So, because of this, we are filtering the population data to only the RN state."
   ]
  },
  {
   "cell_type": "code",
   "execution_count": null,
   "metadata": {},
   "outputs": [],
   "source": [
    "# filtering data about RN state\n",
    "dataRN = data2017[data2017['UF'] == 'RN']\n",
    "\n",
    "# sort dataset by city name\n",
    "dataRN = dataRN.sort_values('NOME_DO_MUNICÍPIO')\n",
    "\n",
    "#print first five rows\n",
    "dataRN.head()\n"
   ]
  },
  {
   "cell_type": "markdown",
   "metadata": {},
   "source": [
    "## 3. Geodata \n",
    "\n",
    "In order to draw a thematic map, as we defined early, we need to specify the geographic areas. A common way to do that is with [GeoJSON](http://geojson.org/) files, which has a defined structure to represent the perimeters of the geographic areas and also his properties.\n",
    "\n",
    "In our case, we will use the GeoJSON files of the states of Brazil of the [Geodata BR - Brasil](http://geojson.org/) project. They have a file for each state with all the areas of all the cities.\n",
    "\n",
    "A GeoJSON file is typically a python dictionary. The files used in this project has the following structure.\n",
    "\n",
    "#### Keys:\n",
    "\n",
    "##### type:\n",
    "The value of this key is 'FeatureCollection', indicating that the other key contains a collection (list) of features.\n",
    "\n",
    "##### features:\n",
    "The value of this key is a list of features. Each feature represent one city and has the structure defined in the GeoJSON specification, which is also a typical python dictionary with the following structure:\n",
    "\n",
    "- A <span style=\"background-color: #F9EBEA; color:##C0392B\">geometry</span> key that holds the geometry of the perimeter of the geographic area as a list of points;\n",
    "\n",
    "- A <span style=\"background-color: #F9EBEA; color:##C0392B\">properties</span> key that holds three informations:\n",
    "    - description:\n",
    "    Is the name of the city.\n",
    "    - id:\n",
    "    Is the identification code of the city. The value is the concatenation of the UF id (the same value of the <span style=\"background-color: #F9EBEA; color:##C0392B\">COD. UF</span> in the IBGE dataset), with 2 digits, and the city id (the same value of the <span style=\"background-color: #F9EBEA; color:##C0392B\">COD. MUNIC</span> in the IBGE dataset), with 5 digits.\n",
    "    - name:\n",
    "    Is the name of the city, the same value of the description."
   ]
  },
  {
   "cell_type": "code",
   "execution_count": null,
   "metadata": {},
   "outputs": [],
   "source": [
    "# searching the files in geojson/geojs-xx-mun.json\n",
    "# where xx is the code of the state (same as COD.UF of the IBGE dataset)\n",
    "# the code of RN is 24\n",
    "geo_json_rn_path = os.path.join('geojson', 'geojs-24-mun.json')\n",
    "\n",
    "# load the data and use 'latin-1'encoding because the accent\n",
    "geo_json_data_rn = json.load(open(geo_json_rn_path,encoding='latin-1'))\n",
    "\n",
    "# print the keys of the GeoJSON file\n",
    "print(geo_json_data_rn.keys())\n",
    "# print the value of the 'type' key\n",
    "print(geo_json_data_rn['type'])\n",
    "# print the value of the 'features' key\n",
    "geo_json_data_rn['features']"
   ]
  },
  {
   "cell_type": "markdown",
   "metadata": {},
   "source": [
    "## 4. The folium library\n",
    "\n",
    "In this notebook we will use the [folium](https://github.com/python-visualization/folium) library of python to make our thematic maps. This library basically brings the leaflet.js, a JavaScript library, to the python ecosystem. \n",
    "\n",
    "We can say that this library is a work in progress and are being constatly updated. In 02/11/2017, the oficial version is 0.5.0, but the 0.6.0 is already in development mode and has some interesting features, such as tooltip for markers.\n",
    "\n",
    "In the code below, we show the basic example of drawing a map and 'import' a GeoJSON file to it.\n",
    "\n",
    "The `folium.Map()` method receives these basically parameters:\n",
    "\n",
    "- **location:**\n",
    "Is the coordinates of the center of the map that will be first displayed.\n",
    "\n",
    "- **zoom_start:**\n",
    "Is the level of the zoom that will be first displaye.\n",
    "\n",
    "- **[tiles](http://wiki.openstreetmap.org/wiki/Tiles):**\n",
    "Is the style of the layer of the map. The folium library supports many tiles, including custom tilesets. The default is <span style=\"background-color: #F9EBEA; color:##C0392B\">OpenStreetMap</span>. We will use the <span style=\"background-color: #F9EBEA; color:##C0392B\">Stamen Terrain</span> in our maps, because they show the geography of the area and we thought that this would be more suitable to our objective. Another tile that is much representative is the <span style=\"background-color: #F9EBEA; color:##C0392B\">Mapbox Control Room</span>, which shows green areas varying his size according with the population."
   ]
  },
  {
   "cell_type": "code",
   "execution_count": null,
   "metadata": {},
   "outputs": [],
   "source": [
    "# Create a map object\n",
    "m = folium.Map(\n",
    "    location=[-5.826592, -35.212558],\n",
    "    zoom_start=7,\n",
    "    tiles='Stamen Terrain'\n",
    ")\n",
    "\n",
    "# Configure geojson layer\n",
    "folium.GeoJson(geo_json_data_rn).add_to(m)\n",
    "\n",
    "m"
   ]
  },
  {
   "cell_type": "code",
   "execution_count": null,
   "metadata": {
    "collapsed": true
   },
   "outputs": [],
   "source": [
    "# Create a map object\n",
    "m = folium.Map(\n",
    "    location=[-5.826592, -35.212558],\n",
    "    zoom_start=7,\n",
    "    tiles='OpenStreetMap'\n",
    ")\n",
    "\n",
    "m"
   ]
  },
  {
   "cell_type": "code",
   "execution_count": null,
   "metadata": {
    "collapsed": true
   },
   "outputs": [],
   "source": [
    "# Create a map object\n",
    "m = folium.Map(\n",
    "    location=[-5.826592, -35.212558],\n",
    "    zoom_start=7,\n",
    "    tiles='Mapbox Control Room'\n",
    ")\n",
    "\n",
    "m"
   ]
  },
  {
   "cell_type": "markdown",
   "metadata": {},
   "source": [
    "## 5. Drawing the choropleth map\n",
    "\n",
    "Now that we know how to import a GeoJSON file into a map, we can draw our choropleth map. There is two basic ways of doing that:\n",
    "\n",
    "- Customizing the color (and other properties) of each feature of the GeoJSON file with the [styling function](http://python-visualization.github.io/folium/docs-master/quickstart.html#Styling-function) in the `folium.GeoJson()` method; and\n",
    "\n",
    "- Using the `folium.choropleth()` method and setting the configurations of it by their parameters.\n"
   ]
  },
  {
   "cell_type": "markdown",
   "metadata": {},
   "source": [
    "### 5.1. Using the `folium.GeoJson()` method\n",
    "\n",
    "First we need to create a function that maps one value to a RGB color (of the form <span style=\"background-color: #F9EBEA; color:##C0392B\">#RRGGBB</span>). For this, we'll use <span style=\"background-color: #F9EBEA; color:##C0392B\">colormap tools</span> from `folium.colormap`.\n",
    "\n",
    "The `linear.color.scale()` method creates a linear scale of the specified color according the given parameters, where the first is the <span style=\"background-color: #F9EBEA; color:##C0392B\">minimum value</span> and the second is the <span style=\"background-color: #F9EBEA; color:##C0392B\">maximum value</span>."
   ]
  },
  {
   "cell_type": "code",
   "execution_count": null,
   "metadata": {},
   "outputs": [],
   "source": [
    "from branca.colormap import linear\n",
    "\n",
    "# colormap yellow and green (YlGn)\n",
    "colormap_rn = linear.YlGn.scale(\n",
    "    dataRN.POPULAÇÃO_ESTIMADA.min(),\n",
    "    dataRN.POPULAÇÃO_ESTIMADA.max())\n",
    "\n",
    "colormap_rn"
   ]
  },
  {
   "cell_type": "markdown",
   "metadata": {},
   "source": [
    "After that, we need to convert our dataset into a dictionnary, in order to map a feature (the city name) to it's value (in our case, the population). Therefore, our dictionnary has the name of the city as the key and the population of it as the value."
   ]
  },
  {
   "cell_type": "code",
   "execution_count": null,
   "metadata": {
    "collapsed": true
   },
   "outputs": [],
   "source": [
    "population_dict_rn = dataRN.set_index('NOME_DO_MUNICÍPIO')['POPULAÇÃO_ESTIMADA']"
   ]
  },
  {
   "cell_type": "markdown",
   "metadata": {
    "collapsed": true
   },
   "source": [
    "Now, we have all the parameters to pass in the `folium.GeoJson()` method to transform it in a choropleth map. And we can call it like this\n",
    "\n",
    "```python\n",
    "folium.GeoJson(\n",
    "    geo_json_data_rn,\n",
    "    name='Population estimation of RN State in 2017',\n",
    "    style_function=lambda feature: {\n",
    "        'fillColor': colormap_rn(population_dict_rn[feature['properties']['description']]),\n",
    "        'color': 'black',\n",
    "        'weight': 1,\n",
    "        'dashArray': '5, 5',\n",
    "        'fillOpacity': 0.4,\n",
    "    }\n",
    ").add_to(m)\n",
    "```\n",
    "\n",
    "where,\n",
    "\n",
    "- **`geo_json_data_rn`:** contains the GeoJSON file to draw in the map;\n",
    "\n",
    "- **`name`:** is the name of the layer;\n",
    "\n",
    "- **`style_function`:** pass a function to be evaluated for each feature (city) of the GeoJSON file. We can use the form `lambda feature: {}` to pass the function. In our case, we pass as the key of our dictionary the name of the city stored in `feature['properties']['description']`, which return the population of this city and use it as the index of our colormap previously defined. The color of this colormap is set to fill the polygon that defines the city. The others properties are static and customize the map.\n",
    "\n",
    "At last, we need to explicit insert the legend of the map. We do thi by adding the colormap to our map with `colormap_rn.add_to(m)`.\n"
   ]
  },
  {
   "cell_type": "code",
   "execution_count": null,
   "metadata": {
    "collapsed": true
   },
   "outputs": [],
   "source": [
    "# Create a map object\n",
    "m = folium.Map(\n",
    "    location=[-5.826592, -35.212558],\n",
    "    zoom_start=7,\n",
    "    tiles='Stamen Terrain'\n",
    ")\n",
    "\n",
    "# customize the GeoJSON layer in order to make a choropleth map\n",
    "folium.GeoJson(\n",
    "    geo_json_data_rn,\n",
    "    name='Population estimation of RN State in 2017',\n",
    "    style_function=lambda feature: {\n",
    "        'fillColor': colormap_rn(population_dict_rn[feature['properties']['description']]),\n",
    "        'color': 'black',\n",
    "        'weight': 1,\n",
    "        'dashArray': '5, 5',\n",
    "        'fillOpacity': 0.4,\n",
    "    }\n",
    ").add_to(m)\n",
    "\n",
    "# add a legend\n",
    "colormap_rn.caption = 'Population estimation of RN State in 2017'\n",
    "colormap_rn.add_to(m)\n",
    "\n",
    "# add a layer control\n",
    "folium.LayerControl().add_to(m)\n",
    "\n",
    "# print the map\n",
    "m"
   ]
  },
  {
   "cell_type": "markdown",
   "metadata": {
    "collapsed": true
   },
   "source": [
    "As we can see, there is a error in the execution of the code above, because the city <span style=\"background-color: #F9EBEA; color:##C0392B\">Presidente Juscelino</span> doesn't exist in the dataset of the IBGE and therefore in the dictionary that we create. In this case, we are passing a key to the dictionary that doesn't exist.\n",
    "\n",
    "This happens because the city <span style=\"background-color: #F9EBEA; color:##C0392B\">Presidente Juscelino</span> changed his name to Serra Caiada. In this case, we change the description of the feature to match the name of the dataset."
   ]
  },
  {
   "cell_type": "code",
   "execution_count": null,
   "metadata": {
    "collapsed": true
   },
   "outputs": [],
   "source": [
    "# http://cidades.ibge.gov.br/painel/historico.php?codmun=241030\n",
    "# Presidente Juscelino city changes your name to Serra Caiada\n",
    "geo_json_data_rn['features'][112]['properties']['description'] = 'Serra Caiada'\n",
    "geo_json_data_rn['features'][112]['properties']['name'] = 'Serra Caiada'"
   ]
  },
  {
   "cell_type": "code",
   "execution_count": null,
   "metadata": {},
   "outputs": [],
   "source": [
    "# Create a map object\n",
    "m = folium.Map(\n",
    "    location=[-5.826592, -35.212558],\n",
    "    zoom_start=7,\n",
    "    tiles='Stamen Terrain'\n",
    ")\n",
    "\n",
    "# customize the GeoJSON layer in order to make a choropleth map\n",
    "folium.GeoJson(\n",
    "    geo_json_data_rn,\n",
    "    name='Population estimation of RN State in 2017',\n",
    "    style_function=lambda feature: {\n",
    "        'fillColor': colormap_rn(population_dict_rn[feature['properties']['description']]),\n",
    "        'color': 'black',\n",
    "        'weight': 1,\n",
    "        'dashArray': '5, 5',\n",
    "        'fillOpacity': 0.4,\n",
    "    }\n",
    ").add_to(m)\n",
    "\n",
    "# add a legend\n",
    "colormap_rn.caption = 'Population estimation of RN State in 2017'\n",
    "colormap_rn.add_to(m)\n",
    "\n",
    "# add a layer control\n",
    "folium.LayerControl().add_to(m)\n",
    "\n",
    "# print the map\n",
    "m"
   ]
  },
  {
   "cell_type": "markdown",
   "metadata": {
    "collapsed": true
   },
   "source": [
    "### 5.2. Using the `map.choropleth()` method\n",
    "\n",
    "In this subsection we will show how to use the `map.choropleth()` method to draw a choropleth map. In this time we will draw all the states of the northeast of Brazil, considering a different choropleth map to each state, which means that each state will have a different reference of colors and scales, which also leads to the need of a different legend for each state.\n",
    "\n",
    "The `map.choropleth()` method has a lot of options of parameters, where the full description can be found in the [documentation](http://python-visualization.github.io/folium/docs-master/modules.html#module-folium.map). Below, we describe the parameters used in this notebook.\n",
    "\n",
    "```python\n",
    "m.choropleth(\n",
    "    geo_data=geo_json_data[state],\n",
    "    name='Population estimation of ' + state + ' State in 2017',\n",
    "    data=data[state],\n",
    "    columns=['NOME_DO_MUNICÍPIO', 'POPULAÇÃO_ESTIMADA'],\n",
    "    key_on='feature.properties.description',\n",
    "    fill_color= fill_colors[j],\n",
    "    legend_name='Population estimation of ' + state + ' State in 2017',\n",
    "    highlight=True,\n",
    "    threshold_scale = threshold_scales[state]\n",
    ")\n",
    "```\n",
    "\n",
    "- **geo_data**: the GeoJSON file to draw the choropleth;\n",
    "- **name**: name of the layer;\n",
    "- **data**: data to bind to the GeoJSON, as a Pandas Dataframe or Series;\n",
    "- **colums**: set the columns to be bound. By definition, the first column acts as the key, while the second column is the value;\n",
    "- **key_on**: variable in the GeoJSON file to bind the data to. Must always start with ‘feature’ and be in JavaScript objection notation. In our case, the key is the name of the city, which is located in `feature.properties.description`;\n",
    "- **fill_color**: area fill color;\n",
    "- **legend_name**: the caption of the data legend;\n",
    "- **highlight**: true means that when we pass the mouse across the geometry of the feature, this one will be highlighted;\n",
    "- **threshold_scale**: data range for D3 threshold scale. The length of the threshold_scale can be a maximun of 6, which means that we will have 6 scales of colors in the choropleth map. Act's similarly as the definition of the colormap in the `folium.GeoJson()` method. "
   ]
  },
  {
   "cell_type": "code",
   "execution_count": null,
   "metadata": {
    "collapsed": true
   },
   "outputs": [],
   "source": [
    "# list of all the states of the northeast of Brazil\n",
    "states = ['MA', 'PI', 'CE', 'RN', 'PB', 'PE', 'AL', 'SE', 'BA']\n",
    "\n",
    "# creation of a dictionary containing the IBGE dataset for each state (with the UF being the key) \n",
    "data = {}\n",
    "for i in states:\n",
    "    data[i] = data2017[data2017['UF'] == i]\n"
   ]
  },
  {
   "cell_type": "code",
   "execution_count": null,
   "metadata": {
    "collapsed": true
   },
   "outputs": [],
   "source": [
    "# list of colors pallets to use in each choropleth map (one for each state)\n",
    "fill_colors = ['BuGn', 'OrRd', 'PuBu', 'GnBu', 'OrRd', 'BuGn', 'PuBu', 'GnBu', 'PuBuGn']"
   ]
  },
  {
   "cell_type": "code",
   "execution_count": null,
   "metadata": {
    "collapsed": true
   },
   "outputs": [],
   "source": [
    "# creation of a dictionary containing the GeoJSON data for each state (with the UF being the key) \n",
    "geo_json_data = {}\n",
    "j = 21\n",
    "for i in states:\n",
    "    filename = 'geojs-' + str(j) +'-mun.json'\n",
    "    path = os.path.join('geojson', filename)  \n",
    "    \n",
    "    geo_json_data[i] = json.load(open(path, encoding='latin-1'))\n",
    "    \n",
    "    j = j+1\n",
    "    \n"
   ]
  },
  {
   "cell_type": "markdown",
   "metadata": {},
   "source": [
    "As can be observed in the description of the parameters of the `map.choropleth()` method, we basically don't need to do any manipulation of our data, only create a threshold_scale in order to scale the colors to be filled in the choropleth map."
   ]
  },
  {
   "cell_type": "code",
   "execution_count": null,
   "metadata": {
    "collapsed": true
   },
   "outputs": [],
   "source": [
    "# creation of a dictionary containing the threshold_scale for each state (with the UF being the key) \n",
    "threshold_scales = {}\n",
    "for i in states:\n",
    "    threshold_scales[i] = np.linspace(data[i]['POPULAÇÃO_ESTIMADA'].min(),\n",
    "                              data[i]['POPULAÇÃO_ESTIMADA'].max(), 6, dtype=int).tolist()\n"
   ]
  },
  {
   "cell_type": "code",
   "execution_count": null,
   "metadata": {
    "collapsed": true
   },
   "outputs": [],
   "source": [
    "# Create a map object\n",
    "m = folium.Map(\n",
    "    location = [-5.826592, -35.212558],\n",
    "    zoom_start = 4,\n",
    "    tiles='Stamen Terrain'\n",
    ")\n",
    "\n",
    "# Draw a choropleth map for each state\n",
    "for j, state in enumerate(states):\n",
    "    m.choropleth(\n",
    "        geo_data=geo_json_data[state],\n",
    "        name='Population estimation of ' + state + ' State in 2017',\n",
    "        data=data[state],\n",
    "        columns=['NOME_DO_MUNICÍPIO', 'POPULAÇÃO_ESTIMADA'],\n",
    "        key_on='feature.properties.description',\n",
    "        fill_color= fill_colors[j],\n",
    "        legend_name='Population estimation of ' + state + ' State in 2017',\n",
    "        highlight=True,\n",
    "        threshold_scale = threshold_scales[state]\n",
    "    )\n",
    "    \n",
    "    # Draw a CircleMarker inside each city. This would help in the identification of the cities.\n",
    "    # Unfortunately, when we put this code, the output map doesn't get drawned \n",
    "    '''for city in geo_json_data[state]['features']:\n",
    "        # get the name of neighborhood\n",
    "        name = city['properties']['description']\n",
    "        # take the coordinates (lat,log) of neighborhood\n",
    "        geom = city['geometry']['coordinates']\n",
    "        # create a polygon using all coordinates\n",
    "        polygon = Polygon(geom[0])\n",
    "\n",
    "        folium.CircleMarker([polygon.centroid.y, polygon.centroid.x],\n",
    "                    radius=2,\n",
    "                    popup=name,\n",
    "                    tooltip=name,\n",
    "                    color='red').add_to(m)'''\n",
    "\n",
    "    "
   ]
  },
  {
   "cell_type": "code",
   "execution_count": null,
   "metadata": {
    "collapsed": true
   },
   "outputs": [],
   "source": [
    "# add a layer control\n",
    "folium.LayerControl().add_to(m)\n",
    "\n",
    "# print the map\n",
    "m   "
   ]
  },
  {
   "cell_type": "markdown",
   "metadata": {},
   "source": [
    "As can be observed in the map drawned above, the many legends made difficult to analyze the choropleth map. The `folium library` doesn't allow (at least yet) the customization of the legends. Therefore, it just better to draw a unified choropleth map (with only one scale of colors) or separated choropleth maps.\n",
    "\n",
    "Also, we didn't correct the incompatibility of the name of the city of Presidente Juscelino / Serra Caiada but there were no errors in the execution of the code above and the map was fully drawned. This happens because we don't have to create a dictionary anymore, so, there is no reference to a inexistent key.\n",
    "\n",
    "Even though, we know there is at least one incompatibility in the bound of data of the GeoJSON file and the Dataframe. So the question is: what happens with the color of the Presidente Juscelino city, if there is no equivalent value of their population in the dataframe passed?\n",
    "\n",
    "To help to solve this question, we add a CircleMarker in all the cities that we discover that has a difference in the names between the GeoJSON file and the dataset of the IBGE."
   ]
  },
  {
   "cell_type": "code",
   "execution_count": null,
   "metadata": {
    "collapsed": true
   },
   "outputs": [],
   "source": [
    "# draw a CircleMarker in the cities of 'RN' that has divergences between the GeoJSON and the dataset\n",
    "for city in geo_json_data['RN']['features']:\n",
    "    if city['properties']['description'] == 'Presidente Juscelino':\n",
    "        name = city['properties']['description']\n",
    "        geom = city['geometry']['coordinates']\n",
    "        polygon = Polygon(geom[0])\n",
    "        \n",
    "        folium.CircleMarker(\n",
    "            location=[polygon.centroid.y, polygon.centroid.x],\n",
    "            radius=1.5,\n",
    "            popup=name,\n",
    "            color='red'\n",
    "            ).add_to(m)\n",
    "\n",
    "# draw a CircleMarker in the cities of 'PB' that has divergences between the GeoJSON and the dataset\n",
    "for city in geo_json_data['PB']['features']:\n",
    "    if (city['properties']['description'] == 'Quixabá' or \n",
    "        city['properties']['description'] == 'Santarém' or \n",
    "        city['properties']['description'] == 'Seridó' or \n",
    "        city['properties']['description'] == 'Campo de Santana'):\n",
    "        \n",
    "        name = city['properties']['description']\n",
    "        geom = city['geometry']['coordinates']\n",
    "        polygon = Polygon(geom[0])\n",
    "        \n",
    "        folium.CircleMarker(\n",
    "            location=[polygon.centroid.y, polygon.centroid.x],\n",
    "            radius=1.5,\n",
    "            popup=name,\n",
    "            color='red'\n",
    "            ).add_to(m)\n",
    "        \n",
    "# draw a CircleMarker in the cities of 'PE' that has divergences between the GeoJSON and the dataset\n",
    "for city in geo_json_data['PE']['features']:\n",
    "    if (city['properties']['description'] == 'Belém de São Francisco' or \n",
    "        city['properties']['description'] == 'Iguaraci' or \n",
    "        city['properties']['description'] == 'Lagoa do Itaenga'):\n",
    "        \n",
    "        name = city['properties']['description']\n",
    "        geom = city['geometry']['coordinates']\n",
    "        polygon = Polygon(geom[0])\n",
    "        \n",
    "        folium.CircleMarker(\n",
    "            location=[polygon.centroid.y, polygon.centroid.x],\n",
    "            radius=1.5,\n",
    "            popup=name,\n",
    "            color='red'\n",
    "            ).add_to(m)"
   ]
  },
  {
   "cell_type": "code",
   "execution_count": null,
   "metadata": {
    "collapsed": true,
    "scrolled": true
   },
   "outputs": [],
   "source": [
    "# print the map\n",
    "m"
   ]
  },
  {
   "cell_type": "markdown",
   "metadata": {},
   "source": [
    "It's possible to see that all the cities that have the CircleMarker (have a incompatibility of the city name between the GeoJSON file and the dataset) is filled with the same default color, independent of the pallet of his state. Therefore, one possible presumption is that when a feature doesn't bound with the data passed, his fill color is not applied. Other possibility is that is assumed a zero value, but once the minimun value of the threshold_scale is greater than one, then the fill color remains the default one.\n",
    "\n",
    "Either way, it's safe to conclude that for the `map.choropleth()` method, the user needs to ensure that all the features has corresponding matchs in the data passed."
   ]
  },
  {
   "cell_type": "code",
   "execution_count": null,
   "metadata": {
    "collapsed": true
   },
   "outputs": [],
   "source": []
  },
  {
   "cell_type": "markdown",
   "metadata": {},
   "source": [
    "Therefore, to elimate the issue of bad visualization because the number of legends and the incompatibility of names between the GeoJSON file an the dataset of the IBGE, we will draw another choropleth map, using the `folium.GeoJson()` method.\n",
    "\n",
    "In this case, we use the GeoJSON of the Brazil as the base to create another GeoJSON file with all the cities of the northeast, using the first two digits of the `properties.id`, which correspond to the ID of the state."
   ]
  },
  {
   "cell_type": "code",
   "execution_count": null,
   "metadata": {
    "collapsed": true
   },
   "outputs": [],
   "source": [
    "# searching the files in geojson/geojs-xx-mun.json\n",
    "br_path = os.path.join('geojson', 'geojs-100-mun.json')\n",
    "\n",
    "# load the data and use 'latin-1'encoding because the accent\n",
    "geo_json_br = json.load(open(br_path,encoding='latin-1'))"
   ]
  },
  {
   "cell_type": "code",
   "execution_count": null,
   "metadata": {
    "collapsed": true
   },
   "outputs": [],
   "source": [
    "# creates a list containing all the cities of the northeast\n",
    "# this is verified by the first two digits of the properties.id\n",
    "cities = []\n",
    "for city in geo_json_br['features']:\n",
    "    if (city['properties']['id'][:2] == '21' or \n",
    "        city['properties']['id'][:2] == '22' or \n",
    "        city['properties']['id'][:2] == '23' or \n",
    "        city['properties']['id'][:2] == '24' or \n",
    "        city['properties']['id'][:2] == '25' or \n",
    "        city['properties']['id'][:2] == '26' or\n",
    "        city['properties']['id'][:2] == '27' or \n",
    "        city['properties']['id'][:2] == '28' or \n",
    "        city['properties']['id'][:2] == '29' ):\n",
    "        \n",
    "        cities.append(city)\n",
    "\n",
    "# creates a dictionary and insert all the cities as the value of the key 'features'\n",
    "# this is the format of a GeoJSON file\n",
    "geo_json_NE = {}        \n",
    "geo_json_NE['features'] = cities\n"
   ]
  },
  {
   "cell_type": "markdown",
   "metadata": {},
   "source": [
    "We also create only one dataframe with the population of all the cities of the northeastern states of Brazil."
   ]
  },
  {
   "cell_type": "code",
   "execution_count": null,
   "metadata": {
    "collapsed": true
   },
   "outputs": [],
   "source": [
    "# filters the dataset of the IBGE for the population estimation of all the northeast states\n",
    "dataNE = data2017[ (( data2017['UF'] == 'MA' ) | \n",
    "                    ( data2017['UF'] == 'PI' ) | \n",
    "                    ( data2017['UF'] == 'CE' ) | \n",
    "                    ( data2017['UF'] == 'RN' ) | \n",
    "                    ( data2017['UF'] == 'PB' ) | \n",
    "                    ( data2017['UF'] == 'PE' ) | \n",
    "                    ( data2017['UF'] == 'AL' ) | \n",
    "                    ( data2017['UF'] == 'SE' ) | \n",
    "                    ( data2017['UF'] == 'BA' )) ]"
   ]
  },
  {
   "cell_type": "markdown",
   "metadata": {},
   "source": [
    "For eliminate the problems with the incompatibility of names of the cities between the GeoJSON file and the dataframe, we create a new column in the dataframe that correspond to the full `id` of the city, with the same sintax of the `id` of the GeoJSON file, which is the concatenation of the <span style=\"background-color: #F9EBEA; color:##C0392B\">state id (COD._UF) and the city id (COD._MUNIC)</span>, with 7 digits. Therefore, the bound between the GeoJSON file and the dataframe can now be the `id`."
   ]
  },
  {
   "cell_type": "code",
   "execution_count": null,
   "metadata": {
    "collapsed": true
   },
   "outputs": [],
   "source": [
    "# function that concatenate the 'COD._UF' and the 'COD._MUNIC' \n",
    "# in order to make the 'id' with the same sintax of the GeoJSON file\n",
    "def column_id(row):\n",
    "    return str(int(row['COD._UF'])) + str(int(row['COD._MUNIC'])).zfill(5)\n",
    "\n",
    "# creates the column 'id' in the dataframe, ir order to bound with the GeoJSON file\n",
    "dataNE['id'] = dataNE.apply(column_id, 'columns')"
   ]
  },
  {
   "cell_type": "code",
   "execution_count": null,
   "metadata": {
    "collapsed": true
   },
   "outputs": [],
   "source": [
    "# print the first five rows of the new dataNE\n",
    "dataNE.head()"
   ]
  },
  {
   "cell_type": "markdown",
   "metadata": {
    "collapsed": true
   },
   "source": [
    "Now we create the dictionary with the new column `id` being the key."
   ]
  },
  {
   "cell_type": "code",
   "execution_count": null,
   "metadata": {
    "collapsed": true
   },
   "outputs": [],
   "source": [
    "population_dict_NE = dataNE.set_index('id')['POPULAÇÃO_ESTIMADA']"
   ]
  },
  {
   "cell_type": "code",
   "execution_count": null,
   "metadata": {
    "collapsed": true
   },
   "outputs": [],
   "source": [
    "colormap_NE = linear.YlOrRd.scale(\n",
    "                dataNE.POPULAÇÃO_ESTIMADA.min(),\n",
    "                dataNE.POPULAÇÃO_ESTIMADA.max() )"
   ]
  },
  {
   "cell_type": "code",
   "execution_count": null,
   "metadata": {
    "collapsed": true,
    "scrolled": false
   },
   "outputs": [],
   "source": [
    "m = folium.Map(\n",
    "    location=[-5.826592, -35.212558],\n",
    "    zoom_start=6,\n",
    "    tiles='Stamen Terrain'\n",
    ")\n",
    "\n",
    "folium.GeoJson(\n",
    "    geo_json_NE,\n",
    "    name='Population of northeastern Brazilian states in 2017',\n",
    "    style_function=lambda feature: {\n",
    "        'fillColor': colormap_NE(population_dict_NE[feature['properties']['id']]),\n",
    "        'color': 'black',\n",
    "        'weight': 1,\n",
    "        'dashArray': '3, 3',\n",
    "        'fillOpacity': 0.7,\n",
    "    }\n",
    ").add_to(m)\n",
    "\n",
    "# Draw a CircleMarker inside each city. This would help in the identification of the cities.\n",
    "# Unfortunately, when we put this code, the output map doesn't get drawned \n",
    "'''for city in geo_json_NE['features']:\n",
    "    # get the name of the city\n",
    "    name = city['properties']['description']\n",
    "    # take the coordinates of the city\n",
    "    geom = city['geometry']['coordinates']\n",
    "    # create a polygon using all coordinates\n",
    "    polygon = Polygon(geom[0])\n",
    "\n",
    "    folium.CircleMarker([polygon.centroid.y, polygon.centroid.x],\n",
    "                radius=2,\n",
    "                popup=name,\n",
    "                tooltip=name,\n",
    "                color='red').add_to(m)'''\n",
    "\n",
    "colormap_NE.caption = 'Population of northeastern Brazilian states in 2017'\n",
    "colormap_NE.add_to(m)\n",
    "\n",
    "\n",
    "# add a layer control\n",
    "folium.LayerControl().add_to(m)\n",
    "\n",
    "# print the map\n",
    "m   "
   ]
  },
  {
   "cell_type": "markdown",
   "metadata": {
    "collapsed": true
   },
   "source": [
    "## 6. Conclusion\n",
    "\n",
    "As can be noted in this notebook, the creation of a choropleth map can be really ease with the use of the `folium library`, although there is a few tricky issues that the user needs to be aware. \n",
    "\n",
    "As for the visualization of the data itself, with the aid of the choropleth map, the analysis of the population of a region can be really straightfoward, as it is easily noted that the capitals of all the states has the biggest population, specially Salvador and Fortaleza. But considering there is no hint capabilities (that could tell the name of the city as the mouse moves over it), the user could face trouble to identify each city. A workaround of this, could be insert a Marker in every city that would display the name of the city when the user click's on it, but when we inserted this Marker the output doesn't show up in the notebook. Once that problem could be related to the computer configuration, the code for the Markers is commented in this notebook, allowing that someone's else try to insert those Markers."
   ]
  },
  {
   "cell_type": "code",
   "execution_count": null,
   "metadata": {
    "collapsed": true
   },
   "outputs": [],
   "source": []
  }
 ],
 "metadata": {
  "kernelspec": {
   "display_name": "Python 3",
   "language": "python",
   "name": "python3"
  },
  "language_info": {
   "codemirror_mode": {
    "name": "ipython",
    "version": 3
   },
   "file_extension": ".py",
   "mimetype": "text/x-python",
   "name": "python",
   "nbconvert_exporter": "python",
   "pygments_lexer": "ipython3",
   "version": "3.6.1"
  }
 },
 "nbformat": 4,
 "nbformat_minor": 2
}
