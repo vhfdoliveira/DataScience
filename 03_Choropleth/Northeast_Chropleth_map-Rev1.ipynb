{
 "cells": [
  {
   "cell_type": "markdown",
   "metadata": {},
   "source": [
    "# EEC2006 - Data Science\n",
    "# Project #2  Choropleth map: population of northeast states of Brazil\n",
    "## Alex Furtunato\n",
    "## Victor Hugo - 20171003230"
   ]
  },
  {
   "cell_type": "markdown",
   "metadata": {},
   "source": [
    "## 1. Introduction\n",
    "\n",
    "In DataScience "
   ]
  },
  {
   "cell_type": "code",
   "execution_count": null,
   "metadata": {
    "collapsed": true
   },
   "outputs": [],
   "source": [
    "import os\n",
    "import folium\n",
    "import json\n",
    "import pandas as pd\n",
    "from branca.colormap import linear\n",
    "import numpy as np\n",
    "from shapely.geometry import Polygon\n",
    "from shapely.geometry import Point\n",
    "from numpy import random"
   ]
  },
  {
   "cell_type": "code",
   "execution_count": null,
   "metadata": {
    "collapsed": true
   },
   "outputs": [],
   "source": [
    "# dataset name\n",
    "dataset_pop_2017 = os.path.join('data', 'population_2017.csv')\n",
    "\n",
    "# read the data to a dataframe\n",
    "data2017 = pd.read_csv(dataset_pop_2017)\n",
    "\n",
    "# replace spaces for underlines in name of columns\n",
    "data2017.columns = [cols.replace(' ', '_') for cols in data2017.columns]\n",
    "\n",
    "#print the first five rows\n",
    "data2017.head()"
   ]
  },
  {
   "cell_type": "code",
   "execution_count": null,
   "metadata": {
    "collapsed": true
   },
   "outputs": [],
   "source": [
    "# filtering data about RN state\n",
    "dataRN = data2017[data2017['UF'] == 'RN']\n",
    "\n",
    "# sort dataset by city name\n",
    "dataRN = dataRN.sort_values('NOME_DO_MUNICÍPIO')\n",
    "\n",
    "dataRN.head()\n"
   ]
  },
  {
   "cell_type": "code",
   "execution_count": null,
   "metadata": {
    "collapsed": true
   },
   "outputs": [],
   "source": [
    "# searching the files in geojson/geojs-xx-mun.json\n",
    "geo_json_rn_path = os.path.join('geojson', 'geojs-24-mun.json')\n",
    "\n",
    "# load the data and use 'latin-1'encoding because the accent\n",
    "geo_json_data_rn = json.load(open(geo_json_rn_path,encoding='latin-1'))\n",
    "\n",
    "print(geo_json_data_rn.keys())\n",
    "print(geo_json_data_rn['type'])\n",
    "geo_json_data_rn['features']"
   ]
  },
  {
   "cell_type": "code",
   "execution_count": null,
   "metadata": {
    "collapsed": true
   },
   "outputs": [],
   "source": [
    "# Create a map object\n",
    "m = folium.Map(\n",
    "    location=[-5.826592, -35.212558],\n",
    "    zoom_start=7,\n",
    "    tiles='Stamen Terrain'\n",
    ")\n",
    "\n",
    "# Configure geojson layer\n",
    "folium.GeoJson(geo_json_data_rn).add_to(m)\n",
    "\n",
    "m"
   ]
  },
  {
   "cell_type": "code",
   "execution_count": null,
   "metadata": {
    "collapsed": true
   },
   "outputs": [],
   "source": [
    "# colormap yellow and green (YlGn)\n",
    "colormap_rn = linear.YlGn.scale(\n",
    "    dataRN.POPULAÇÃO_ESTIMADA.min(),\n",
    "    dataRN.POPULAÇÃO_ESTIMADA.max())\n",
    "\n",
    "colormap_rn"
   ]
  },
  {
   "cell_type": "code",
   "execution_count": null,
   "metadata": {
    "collapsed": true
   },
   "outputs": [],
   "source": [
    "population_dict_rn = dataRN.set_index('NOME_DO_MUNICÍPIO')['POPULAÇÃO_ESTIMADA']"
   ]
  },
  {
   "cell_type": "code",
   "execution_count": null,
   "metadata": {
    "collapsed": true
   },
   "outputs": [],
   "source": [
    "m = folium.Map(\n",
    "    location=[-5.826592, -35.212558],\n",
    "    zoom_start=7,\n",
    "    tiles='Stamen Terrain'\n",
    ")"
   ]
  },
  {
   "cell_type": "code",
   "execution_count": null,
   "metadata": {
    "collapsed": true
   },
   "outputs": [],
   "source": [
    "# http://cidades.ibge.gov.br/painel/historico.php?codmun=241030\n",
    "# Presidente Juscelino city changes your name to Serra Caiada\n",
    "geo_json_data_rn['features'][112]['properties']['description'] = 'Serra Caiada'\n",
    "geo_json_data_rn['features'][112]['properties']['name'] = 'Serra Caiada'"
   ]
  },
  {
   "cell_type": "code",
   "execution_count": null,
   "metadata": {
    "collapsed": true
   },
   "outputs": [],
   "source": [
    "folium.GeoJson(\n",
    "    geo_json_data_rn,\n",
    "    name='Population estimation of RN State in 2017',\n",
    "    style_function=lambda feature: {\n",
    "        'fillColor': colormap_rn(population_dict_rn[feature['properties']['description']]),\n",
    "        'color': 'black',\n",
    "        'weight': 1,\n",
    "        'dashArray': '5, 5',\n",
    "        'fillOpacity': 0.4,\n",
    "    }\n",
    ").add_to(m)\n",
    "\n",
    "\n",
    "colormap_rn.caption = 'Population estimation of RN State in 2017'\n",
    "colormap_rn.add_to(m)\n",
    "\n"
   ]
  },
  {
   "cell_type": "code",
   "execution_count": null,
   "metadata": {
    "collapsed": true
   },
   "outputs": [],
   "source": [
    "folium.LayerControl().add_to(m)\n",
    "\n",
    "m"
   ]
  },
  {
   "cell_type": "code",
   "execution_count": null,
   "metadata": {
    "collapsed": true
   },
   "outputs": [],
   "source": []
  },
  {
   "cell_type": "code",
   "execution_count": null,
   "metadata": {
    "collapsed": true
   },
   "outputs": [],
   "source": [
    "states = ['MA', 'PI', 'CE', 'RN', 'PB', 'PE', 'AL', 'SE', 'BA']\n",
    "data = {}\n",
    "\n",
    "for i in states:\n",
    "    data[i] = data2017[data2017['UF'] == i]\n"
   ]
  },
  {
   "cell_type": "code",
   "execution_count": null,
   "metadata": {
    "collapsed": true
   },
   "outputs": [],
   "source": [
    "fill_colors = ['BuGn', 'OrRd', 'PuBu', 'GnBu', 'OrRd', 'BuGn', 'PuBu', 'GnBu', 'PuBuGn']"
   ]
  },
  {
   "cell_type": "code",
   "execution_count": null,
   "metadata": {
    "collapsed": true
   },
   "outputs": [],
   "source": [
    "geo_json_data = {}\n",
    "j = 21\n",
    "for i in states:\n",
    "    filename = 'geojs-' + str(j) +'-mun.json'\n",
    "    path = os.path.join('geojson', filename)  \n",
    "    \n",
    "    geo_json_data[i] = json.load(open(path, encoding='latin-1'))\n",
    "    \n",
    "    j = j+1\n",
    "    \n"
   ]
  },
  {
   "cell_type": "code",
   "execution_count": null,
   "metadata": {
    "collapsed": true
   },
   "outputs": [],
   "source": [
    "threshold_scales = {}\n",
    "\n",
    "for i in states:\n",
    "    threshold_scales[i] = np.linspace(data[i]['POPULAÇÃO_ESTIMADA'].min(),\n",
    "                              data[i]['POPULAÇÃO_ESTIMADA'].max(), 6, dtype=int).tolist()\n"
   ]
  },
  {
   "cell_type": "code",
   "execution_count": null,
   "metadata": {
    "collapsed": true
   },
   "outputs": [],
   "source": [
    "m = folium.Map(\n",
    "    location = [-5.826592, -35.212558],\n",
    "    zoom_start = 4,\n",
    "    tiles='Stamen Terrain'\n",
    ")\n",
    "\n",
    "for j, state in enumerate(states):\n",
    "    m.choropleth(\n",
    "        geo_data=geo_json_data[state],\n",
    "        name='Population estimation of ' + state + ' State in 2017',\n",
    "        data=data[state],\n",
    "        columns=['NOME_DO_MUNICÍPIO', 'POPULAÇÃO_ESTIMADA'],\n",
    "        key_on='feature.properties.description',\n",
    "        fill_color= fill_colors[j],\n",
    "        legend_name='Population estimation of ' + state + ' State in 2017',\n",
    "        highlight=True,\n",
    "        threshold_scale = threshold_scales[state]\n",
    "    )\n",
    "    \n",
    "    '''for city in geo_json_data[state]['features']:\n",
    "        # get the name of neighborhood\n",
    "        name = city['properties']['description']\n",
    "        # take the coordinates (lat,log) of neighborhood\n",
    "        geom = city['geometry']['coordinates']\n",
    "        # create a polygon using all coordinates\n",
    "        polygon = Polygon(geom[0])\n",
    "\n",
    "        folium.CircleMarker([polygon.centroid.y, polygon.centroid.x],\n",
    "                    radius=2,\n",
    "                    popup=name,\n",
    "                    tooltip=name,\n",
    "                    color='red').add_to(m)'''\n",
    "\n",
    "    "
   ]
  },
  {
   "cell_type": "code",
   "execution_count": null,
   "metadata": {
    "collapsed": true
   },
   "outputs": [],
   "source": [
    "folium.LayerControl().add_to(m)\n",
    "\n",
    "m   "
   ]
  },
  {
   "cell_type": "code",
   "execution_count": null,
   "metadata": {
    "collapsed": true
   },
   "outputs": [],
   "source": [
    "for city in geo_json_data['RN']['features']:\n",
    "    if city['properties']['description'] == 'Presidente Juscelino':\n",
    "        name = city['properties']['description']\n",
    "        geom = city['geometry']['coordinates']\n",
    "        polygon = Polygon(geom[0])\n",
    "        \n",
    "        folium.CircleMarker(\n",
    "            location=[polygon.centroid.y, polygon.centroid.x],\n",
    "            radius=1.5,\n",
    "            popup=name,\n",
    "            color='red'\n",
    "            ).add_to(m)\n",
    "\n",
    "for city in geo_json_data['PB']['features']:\n",
    "    if (city['properties']['description'] == 'Quixabá' or \n",
    "        city['properties']['description'] == 'Santarém' or \n",
    "        city['properties']['description'] == 'Seridó' or \n",
    "        city['properties']['description'] == 'Campo de Santana'):\n",
    "        \n",
    "        name = city['properties']['description']\n",
    "        geom = city['geometry']['coordinates']\n",
    "        polygon = Polygon(geom[0])\n",
    "        \n",
    "        folium.CircleMarker(\n",
    "            location=[polygon.centroid.y, polygon.centroid.x],\n",
    "            radius=1.5,\n",
    "            popup=name,\n",
    "            color='red'\n",
    "            ).add_to(m)\n",
    "        \n",
    "for city in geo_json_data['PE']['features']:\n",
    "    if (city['properties']['description'] == 'Belém de São Francisco' or \n",
    "        city['properties']['description'] == 'Iguaraci' or \n",
    "        city['properties']['description'] == 'Lagoa do Itaenga'):\n",
    "        \n",
    "        name = city['properties']['description']\n",
    "        geom = city['geometry']['coordinates']\n",
    "        polygon = Polygon(geom[0])\n",
    "        \n",
    "        folium.CircleMarker(\n",
    "            location=[polygon.centroid.y, polygon.centroid.x],\n",
    "            radius=1.5,\n",
    "            popup=name,\n",
    "            color='red'\n",
    "            ).add_to(m)"
   ]
  },
  {
   "cell_type": "code",
   "execution_count": null,
   "metadata": {
    "collapsed": true
   },
   "outputs": [],
   "source": [
    "folium.LayerControl().add_to(m)\n",
    "\n",
    "m"
   ]
  },
  {
   "cell_type": "code",
   "execution_count": null,
   "metadata": {
    "collapsed": true
   },
   "outputs": [],
   "source": []
  },
  {
   "cell_type": "markdown",
   "metadata": {},
   "source": [
    "## TESTES COM APENAS UMA LEGENDA"
   ]
  },
  {
   "cell_type": "code",
   "execution_count": null,
   "metadata": {
    "collapsed": true
   },
   "outputs": [],
   "source": [
    "# searching the files in geojson/geojs-xx-mun.json\n",
    "br_path = os.path.join('geojson', 'geojs-100-mun.json')\n",
    "\n",
    "# load the data and use 'latin-1'encoding because the accent\n",
    "geo_json_br = json.load(open(br_path,encoding='latin-1'))"
   ]
  },
  {
   "cell_type": "code",
   "execution_count": null,
   "metadata": {
    "collapsed": true
   },
   "outputs": [],
   "source": [
    "cities = []\n",
    "for city in geo_json_br['features']:\n",
    "    if (city['properties']['id'][:2] == '21' or \n",
    "        city['properties']['id'][:2] == '22' or \n",
    "        city['properties']['id'][:2] == '23' or \n",
    "        city['properties']['id'][:2] == '24' or \n",
    "        city['properties']['id'][:2] == '25' or \n",
    "        city['properties']['id'][:2] == '26' or\n",
    "        city['properties']['id'][:2] == '27' or \n",
    "        city['properties']['id'][:2] == '28' or \n",
    "        city['properties']['id'][:2] == '29' ):\n",
    "        \n",
    "        cities.append(city)\n",
    "\n",
    "geo_json_NE = {}        \n",
    "geo_json_NE['features'] = cities\n"
   ]
  },
  {
   "cell_type": "code",
   "execution_count": null,
   "metadata": {
    "collapsed": true
   },
   "outputs": [],
   "source": [
    "dataNE = data2017[ (( data2017['UF'] == 'MA' ) | \n",
    "                    ( data2017['UF'] == 'PI' ) | \n",
    "                    ( data2017['UF'] == 'CE' ) | \n",
    "                    ( data2017['UF'] == 'RN' ) | \n",
    "                    ( data2017['UF'] == 'PB' ) | \n",
    "                    ( data2017['UF'] == 'PE' ) | \n",
    "                    ( data2017['UF'] == 'AL' ) | \n",
    "                    ( data2017['UF'] == 'SE' ) | \n",
    "                    ( data2017['UF'] == 'BA' )) ]"
   ]
  },
  {
   "cell_type": "code",
   "execution_count": null,
   "metadata": {
    "collapsed": true
   },
   "outputs": [],
   "source": [
    "def column_id(row):\n",
    "    return str(int(row['COD._UF'])) + str(int(row['COD._MUNIC'])).zfill(5)\n",
    "\n",
    "dataNE['id'] = dataNE.apply(column_id, 'columns')"
   ]
  },
  {
   "cell_type": "code",
   "execution_count": null,
   "metadata": {
    "collapsed": true
   },
   "outputs": [],
   "source": [
    "dataNE"
   ]
  },
  {
   "cell_type": "code",
   "execution_count": null,
   "metadata": {
    "collapsed": true
   },
   "outputs": [],
   "source": [
    "dataNE[:].loc[ dataNE[ (dataNE['UF'] == 'RN') & \n",
    "                       (dataNE['NOME_DO_MUNICÍPIO'] == 'Serra Caiada') ].index,\n",
    "                  'NOME_DO_MUNICÍPIO'] = 'Presidente Juscelino'"
   ]
  },
  {
   "cell_type": "code",
   "execution_count": null,
   "metadata": {
    "collapsed": true
   },
   "outputs": [],
   "source": [
    "dataNE[:].loc[ dataNE[ (dataNE['UF'] == 'PB') & \n",
    "                       (dataNE['NOME_DO_MUNICÍPIO'] == 'Quixaba') ].index, \n",
    "               'NOME_DO_MUNICÍPIO'] = 'Quixabá'\n",
    "\n",
    "dataNE[:].loc[ dataNE[ (dataNE['UF'] == 'PB') & \n",
    "                       (dataNE['NOME_DO_MUNICÍPIO'] == 'Joca Claudino') ].index, \n",
    "               'NOME_DO_MUNICÍPIO'] = 'Santarém'\n",
    "\n",
    "dataNE[:].loc[ dataNE[ (dataNE['UF'] == 'PB') & \n",
    "                       (dataNE['NOME_DO_MUNICÍPIO'] == 'São Vicente do Seridó') ].index, \n",
    "               'NOME_DO_MUNICÍPIO'] = 'Seridó'\n",
    "\n",
    "dataNE[:].loc[ dataNE[ (dataNE['UF'] == 'PB') & \n",
    "                       (dataNE['NOME_DO_MUNICÍPIO'] == 'Tacima') ].index, \n",
    "               'NOME_DO_MUNICÍPIO'] = 'Campo de Santana'"
   ]
  },
  {
   "cell_type": "code",
   "execution_count": null,
   "metadata": {
    "collapsed": true
   },
   "outputs": [],
   "source": [
    "dataNE[:].loc[ dataNE[ (dataNE['UF'] == 'CE') & \n",
    "                       (dataNE['NOME_DO_MUNICÍPIO'] == 'Itapajé') ].index, \n",
    "               'NOME_DO_MUNICÍPIO'] = 'Itapagé'"
   ]
  },
  {
   "cell_type": "code",
   "execution_count": null,
   "metadata": {
    "collapsed": true
   },
   "outputs": [],
   "source": [
    "dataNE[:].loc[ dataNE[ (dataNE['UF'] == 'PE') & \n",
    "                       (dataNE['NOME_DO_MUNICÍPIO'] == 'Belém do São Francisco') ].index, \n",
    "               'NOME_DO_MUNICÍPIO'] = 'Belém de São Francisco'\n",
    "\n",
    "dataNE[:].loc[ dataNE[ (dataNE['UF'] == 'PE') & \n",
    "                       (dataNE['NOME_DO_MUNICÍPIO'] == 'Iguaracy') ].index, \n",
    "               'NOME_DO_MUNICÍPIO'] = 'Iguaraci'\n",
    "\n",
    "dataNE[:].loc[ dataNE[ (dataNE['UF'] == 'PE') & \n",
    "                       (dataNE['NOME_DO_MUNICÍPIO'] == 'Lagoa de Itaenga') ].index, \n",
    "               'NOME_DO_MUNICÍPIO'] = 'Lagoa do Itaenga'"
   ]
  },
  {
   "cell_type": "code",
   "execution_count": null,
   "metadata": {
    "collapsed": true
   },
   "outputs": [],
   "source": [
    "dataNE[:].loc[ dataNE[ (dataNE['UF'] == 'SE') & \n",
    "                       (dataNE['NOME_DO_MUNICÍPIO'] == 'Graccho Cardoso') ].index, \n",
    "               'NOME_DO_MUNICÍPIO'] = 'Gracho Cardoso'"
   ]
  },
  {
   "cell_type": "code",
   "execution_count": null,
   "metadata": {
    "collapsed": true
   },
   "outputs": [],
   "source": [
    "population_dict_NE = dataNE.set_index('id')['POPULAÇÃO_ESTIMADA']"
   ]
  },
  {
   "cell_type": "code",
   "execution_count": null,
   "metadata": {
    "collapsed": true
   },
   "outputs": [],
   "source": [
    "colormap_NE = linear.YlOrRd.scale(\n",
    "                dataNE.POPULAÇÃO_ESTIMADA.min(),\n",
    "                dataNE.POPULAÇÃO_ESTIMADA.max() )"
   ]
  },
  {
   "cell_type": "code",
   "execution_count": null,
   "metadata": {
    "collapsed": true
   },
   "outputs": [],
   "source": [
    "m = folium.Map(\n",
    "    location=[-5.826592, -35.212558],\n",
    "    zoom_start=5,\n",
    "    tiles='Stamen Terrain'\n",
    ")\n",
    "\n",
    "folium.GeoJson(\n",
    "    geo_json_NE,\n",
    "    name='Population of northeastern Brazilian states in 2017',\n",
    "    style_function=lambda feature: {\n",
    "        'fillColor': colormap_NE(population_dict_NE[feature['properties']['id']]),\n",
    "        'color': 'black',\n",
    "        'weight': 1,\n",
    "        'dashArray': '3, 3',\n",
    "        'fillOpacity': 0.7,\n",
    "    }\n",
    ").add_to(m)\n",
    "\n",
    "colormap_NE.caption = 'Population of northeastern Brazilian states in 2017'\n",
    "colormap_NE.add_to(m)\n",
    "\n",
    "m"
   ]
  },
  {
   "cell_type": "code",
   "execution_count": null,
   "metadata": {
    "collapsed": true
   },
   "outputs": [],
   "source": []
  },
  {
   "cell_type": "code",
   "execution_count": null,
   "metadata": {
    "collapsed": true
   },
   "outputs": [],
   "source": []
  },
  {
   "cell_type": "code",
   "execution_count": null,
   "metadata": {
    "collapsed": true
   },
   "outputs": [],
   "source": [
    "folium.__version__"
   ]
  },
  {
   "cell_type": "code",
   "execution_count": null,
   "metadata": {
    "collapsed": true
   },
   "outputs": [],
   "source": []
  },
  {
   "cell_type": "code",
   "execution_count": null,
   "metadata": {
    "collapsed": true
   },
   "outputs": [],
   "source": []
  },
  {
   "cell_type": "code",
   "execution_count": null,
   "metadata": {
    "collapsed": true
   },
   "outputs": [],
   "source": []
  },
  {
   "cell_type": "code",
   "execution_count": null,
   "metadata": {
    "collapsed": true
   },
   "outputs": [],
   "source": []
  },
  {
   "cell_type": "code",
   "execution_count": null,
   "metadata": {
    "collapsed": true
   },
   "outputs": [],
   "source": []
  }
 ],
 "metadata": {
  "kernelspec": {
   "display_name": "Python 3",
   "language": "python",
   "name": "python3"
  },
  "language_info": {
   "codemirror_mode": {
    "name": "ipython",
    "version": 3
   },
   "file_extension": ".py",
   "mimetype": "text/x-python",
   "name": "python",
   "nbconvert_exporter": "python",
   "pygments_lexer": "ipython3",
   "version": "3.6.1"
  }
 },
 "nbformat": 4,
 "nbformat_minor": 2
}
